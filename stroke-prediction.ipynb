{
 "cells": [
  {
   "cell_type": "code",
   "execution_count": 1,
   "id": "3cd6ece5",
   "metadata": {
    "_cell_guid": "b1076dfc-b9ad-4769-8c92-a6c4dae69d19",
    "_uuid": "8f2839f25d086af736a60e9eeb907d3b93b6e0e5",
    "execution": {
     "iopub.execute_input": "2022-01-17T06:27:56.954104Z",
     "iopub.status.busy": "2022-01-17T06:27:56.952772Z",
     "iopub.status.idle": "2022-01-17T06:27:56.971658Z",
     "shell.execute_reply": "2022-01-17T06:27:56.972164Z",
     "shell.execute_reply.started": "2022-01-17T06:20:32.368828Z"
    },
    "papermill": {
     "duration": 0.03307,
     "end_time": "2022-01-17T06:27:56.972504",
     "exception": false,
     "start_time": "2022-01-17T06:27:56.939434",
     "status": "completed"
    },
    "tags": []
   },
   "outputs": [
    {
     "name": "stdout",
     "output_type": "stream",
     "text": [
      "/kaggle/input/stroke-prediction-dataset/healthcare-dataset-stroke-data.csv\n"
     ]
    }
   ],
   "source": [
    "# This Python 3 environment comes with many helpful analytics libraries installed\n",
    "# It is defined by the kaggle/python Docker image: https://github.com/kaggle/docker-python\n",
    "# For example, here's several helpful packages to load\n",
    "\n",
    "import numpy as np # linear algebra\n",
    "import pandas as pd # data processing, CSV file I/O (e.g. pd.read_csv)\n",
    "\n",
    "# Input data files are available in the read-only \"../input/\" directory\n",
    "# For example, running this (by clicking run or pressing Shift+Enter) will list all files under the input directory\n",
    "\n",
    "import os\n",
    "for dirname, _, filenames in os.walk('/kaggle/input'):\n",
    "    for filename in filenames:\n",
    "        print(os.path.join(dirname, filename))\n",
    "\n",
    "# You can write up to 20GB to the current directory (/kaggle/working/) that gets preserved as output when you create a version using \"Save & Run All\" \n",
    "# You can also write temporary files to /kaggle/temp/, but they won't be saved outside of the current session"
   ]
  },
  {
   "cell_type": "code",
   "execution_count": 2,
   "id": "35171775",
   "metadata": {
    "execution": {
     "iopub.execute_input": "2022-01-17T06:27:56.996227Z",
     "iopub.status.busy": "2022-01-17T06:27:56.995554Z",
     "iopub.status.idle": "2022-01-17T06:28:03.802695Z",
     "shell.execute_reply": "2022-01-17T06:28:03.803214Z",
     "shell.execute_reply.started": "2022-01-17T06:20:35.315403Z"
    },
    "papermill": {
     "duration": 6.819714,
     "end_time": "2022-01-17T06:28:03.803425",
     "exception": false,
     "start_time": "2022-01-17T06:27:56.983711",
     "status": "completed"
    },
    "tags": []
   },
   "outputs": [
    {
     "data": {
      "text/html": [
       "<div>\n",
       "<style scoped>\n",
       "    .dataframe tbody tr th:only-of-type {\n",
       "        vertical-align: middle;\n",
       "    }\n",
       "\n",
       "    .dataframe tbody tr th {\n",
       "        vertical-align: top;\n",
       "    }\n",
       "\n",
       "    .dataframe thead th {\n",
       "        text-align: right;\n",
       "    }\n",
       "</style>\n",
       "<table border=\"1\" class=\"dataframe\">\n",
       "  <thead>\n",
       "    <tr style=\"text-align: right;\">\n",
       "      <th></th>\n",
       "      <th>gender</th>\n",
       "      <th>age</th>\n",
       "      <th>hypertension</th>\n",
       "      <th>heart_disease</th>\n",
       "      <th>ever_married</th>\n",
       "      <th>work_type</th>\n",
       "      <th>Residence_type</th>\n",
       "      <th>avg_glucose_level</th>\n",
       "      <th>bmi</th>\n",
       "      <th>smoking_status</th>\n",
       "      <th>stroke</th>\n",
       "    </tr>\n",
       "    <tr>\n",
       "      <th>id</th>\n",
       "      <th></th>\n",
       "      <th></th>\n",
       "      <th></th>\n",
       "      <th></th>\n",
       "      <th></th>\n",
       "      <th></th>\n",
       "      <th></th>\n",
       "      <th></th>\n",
       "      <th></th>\n",
       "      <th></th>\n",
       "      <th></th>\n",
       "    </tr>\n",
       "  </thead>\n",
       "  <tbody>\n",
       "    <tr>\n",
       "      <th>9046</th>\n",
       "      <td>Male</td>\n",
       "      <td>67.0</td>\n",
       "      <td>0</td>\n",
       "      <td>1</td>\n",
       "      <td>Yes</td>\n",
       "      <td>Private</td>\n",
       "      <td>Urban</td>\n",
       "      <td>228.69</td>\n",
       "      <td>36.6</td>\n",
       "      <td>formerly smoked</td>\n",
       "      <td>1</td>\n",
       "    </tr>\n",
       "    <tr>\n",
       "      <th>51676</th>\n",
       "      <td>Female</td>\n",
       "      <td>61.0</td>\n",
       "      <td>0</td>\n",
       "      <td>0</td>\n",
       "      <td>Yes</td>\n",
       "      <td>Self-employed</td>\n",
       "      <td>Rural</td>\n",
       "      <td>202.21</td>\n",
       "      <td>NaN</td>\n",
       "      <td>never smoked</td>\n",
       "      <td>1</td>\n",
       "    </tr>\n",
       "    <tr>\n",
       "      <th>31112</th>\n",
       "      <td>Male</td>\n",
       "      <td>80.0</td>\n",
       "      <td>0</td>\n",
       "      <td>1</td>\n",
       "      <td>Yes</td>\n",
       "      <td>Private</td>\n",
       "      <td>Rural</td>\n",
       "      <td>105.92</td>\n",
       "      <td>32.5</td>\n",
       "      <td>never smoked</td>\n",
       "      <td>1</td>\n",
       "    </tr>\n",
       "    <tr>\n",
       "      <th>60182</th>\n",
       "      <td>Female</td>\n",
       "      <td>49.0</td>\n",
       "      <td>0</td>\n",
       "      <td>0</td>\n",
       "      <td>Yes</td>\n",
       "      <td>Private</td>\n",
       "      <td>Urban</td>\n",
       "      <td>171.23</td>\n",
       "      <td>34.4</td>\n",
       "      <td>smokes</td>\n",
       "      <td>1</td>\n",
       "    </tr>\n",
       "    <tr>\n",
       "      <th>1665</th>\n",
       "      <td>Female</td>\n",
       "      <td>79.0</td>\n",
       "      <td>1</td>\n",
       "      <td>0</td>\n",
       "      <td>Yes</td>\n",
       "      <td>Self-employed</td>\n",
       "      <td>Rural</td>\n",
       "      <td>174.12</td>\n",
       "      <td>24.0</td>\n",
       "      <td>never smoked</td>\n",
       "      <td>1</td>\n",
       "    </tr>\n",
       "  </tbody>\n",
       "</table>\n",
       "</div>"
      ],
      "text/plain": [
       "       gender   age  hypertension  heart_disease ever_married      work_type  \\\n",
       "id                                                                             \n",
       "9046     Male  67.0             0              1          Yes        Private   \n",
       "51676  Female  61.0             0              0          Yes  Self-employed   \n",
       "31112    Male  80.0             0              1          Yes        Private   \n",
       "60182  Female  49.0             0              0          Yes        Private   \n",
       "1665   Female  79.0             1              0          Yes  Self-employed   \n",
       "\n",
       "      Residence_type  avg_glucose_level   bmi   smoking_status  stroke  \n",
       "id                                                                      \n",
       "9046           Urban             228.69  36.6  formerly smoked       1  \n",
       "51676          Rural             202.21   NaN     never smoked       1  \n",
       "31112          Rural             105.92  32.5     never smoked       1  \n",
       "60182          Urban             171.23  34.4           smokes       1  \n",
       "1665           Rural             174.12  24.0     never smoked       1  "
      ]
     },
     "execution_count": 2,
     "metadata": {},
     "output_type": "execute_result"
    }
   ],
   "source": [
    "# importing packages\n",
    "import tensorflow as tf\n",
    "import matplotlib.pyplot as plt\n",
    "import seaborn as sns\n",
    "from sklearn.preprocessing import StandardScaler, OneHotEncoder\n",
    "from sklearn.compose import make_column_transformer, make_column_selector\n",
    "from sklearn.model_selection import train_test_split\n",
    "\n",
    "# model\n",
    "from tensorflow import keras\n",
    "from tensorflow.keras import layers\n",
    "from tensorflow.keras import callbacks\n",
    "\n",
    "# read in the csv file\n",
    "data = pd.read_csv('/kaggle/input/stroke-prediction-dataset/healthcare-dataset-stroke-data.csv', index_col=\"id\")\n",
    "\n",
    "# visualizing the data\n",
    "data.head()"
   ]
  },
  {
   "cell_type": "code",
   "execution_count": 3,
   "id": "857fd1d9",
   "metadata": {
    "execution": {
     "iopub.execute_input": "2022-01-17T06:28:03.834580Z",
     "iopub.status.busy": "2022-01-17T06:28:03.833703Z",
     "iopub.status.idle": "2022-01-17T06:28:03.871379Z",
     "shell.execute_reply": "2022-01-17T06:28:03.870754Z",
     "shell.execute_reply.started": "2022-01-17T06:21:47.672513Z"
    },
    "papermill": {
     "duration": 0.058414,
     "end_time": "2022-01-17T06:28:03.871523",
     "exception": false,
     "start_time": "2022-01-17T06:28:03.813109",
     "status": "completed"
    },
    "tags": []
   },
   "outputs": [],
   "source": [
    "# information to train with\n",
    "X = data.copy().dropna()\n",
    "y = X.pop('stroke')\n",
    "\n",
    "# pre-processing the data\n",
    "features_num = ['age', 'hypertension', 'heart_disease', 'avg_glucose_level', 'bmi']\n",
    "features_cat = ['gender', 'ever_married', 'work_type', 'Residence_type', 'smoking_status']\n",
    "\n",
    "preprocessor = make_column_transformer(\n",
    "    (StandardScaler(), features_num),\n",
    "    (OneHotEncoder(), features_cat),)\n",
    "\n",
    "# splitting up the data\n",
    "X_train, X_valid, y_train, y_valid = train_test_split(X, y, random_state=0)\n",
    "\n",
    "X_train = preprocessor.fit_transform(X_train)\n",
    "X_valid = preprocessor.transform(X_valid)\n",
    "\n",
    "input_shape = [X_train.shape[1]]"
   ]
  },
  {
   "cell_type": "code",
   "execution_count": 4,
   "id": "23fe5756",
   "metadata": {
    "execution": {
     "iopub.execute_input": "2022-01-17T06:28:03.898063Z",
     "iopub.status.busy": "2022-01-17T06:28:03.897128Z",
     "iopub.status.idle": "2022-01-17T06:28:04.083000Z",
     "shell.execute_reply": "2022-01-17T06:28:04.083595Z",
     "shell.execute_reply.started": "2022-01-17T06:21:51.330837Z"
    },
    "papermill": {
     "duration": 0.202721,
     "end_time": "2022-01-17T06:28:04.083773",
     "exception": false,
     "start_time": "2022-01-17T06:28:03.881052",
     "status": "completed"
    },
    "tags": []
   },
   "outputs": [
    {
     "name": "stderr",
     "output_type": "stream",
     "text": [
      "\n",
      "User settings:\n",
      "\n",
      "   KMP_AFFINITY=granularity=fine,verbose,compact,1,0\n",
      "   KMP_BLOCKTIME=0\n",
      "   KMP_DUPLICATE_LIB_OK=True\n",
      "   KMP_INIT_AT_FORK=FALSE\n",
      "   KMP_SETTINGS=1\n",
      "   KMP_WARNINGS=0\n",
      "\n",
      "Effective settings:\n",
      "\n",
      "   KMP_ABORT_DELAY=0\n",
      "   KMP_ADAPTIVE_LOCK_PROPS='1,1024'\n",
      "   KMP_ALIGN_ALLOC=64\n",
      "   KMP_ALL_THREADPRIVATE=128\n",
      "   KMP_ATOMIC_MODE=2\n",
      "   KMP_BLOCKTIME=0\n",
      "   KMP_CPUINFO_FILE: value is not defined\n",
      "   KMP_DETERMINISTIC_REDUCTION=false\n",
      "   KMP_DEVICE_THREAD_LIMIT=2147483647\n",
      "   KMP_DISP_NUM_BUFFERS=7\n",
      "   KMP_DUPLICATE_LIB_OK=true\n",
      "   KMP_ENABLE_TASK_THROTTLING=true\n",
      "   KMP_FORCE_REDUCTION: value is not defined\n",
      "   KMP_FOREIGN_THREADS_THREADPRIVATE=true\n",
      "   KMP_FORKJOIN_BARRIER='2,2'\n",
      "   KMP_FORKJOIN_BARRIER_PATTERN='hyper,hyper'\n",
      "   KMP_GTID_MODE=3\n",
      "   KMP_HANDLE_SIGNALS=false\n",
      "   KMP_HOT_TEAMS_MAX_LEVEL=1\n",
      "   KMP_HOT_TEAMS_MODE=0\n",
      "   KMP_INIT_AT_FORK=true\n",
      "   KMP_LIBRARY=throughput\n",
      "   KMP_LOCK_KIND=queuing\n",
      "   KMP_MALLOC_POOL_INCR=1M\n",
      "   KMP_NUM_LOCKS_IN_BLOCK=1\n",
      "   KMP_PLAIN_BARRIER='2,2'\n",
      "   KMP_PLAIN_BARRIER_PATTERN='hyper,hyper'\n",
      "   KMP_REDUCTION_BARRIER='1,1'\n",
      "   KMP_REDUCTION_BARRIER_PATTERN='hyper,hyper'\n",
      "   KMP_SCHEDULE='static,balanced;guided,iterative'\n",
      "   KMP_SETTINGS=true\n",
      "   KMP_SPIN_BACKOFF_PARAMS='4096,100'\n",
      "   KMP_STACKOFFSET=64\n",
      "   KMP_STACKPAD=0\n",
      "   KMP_STACKSIZE=8M\n",
      "   KMP_STORAGE_MAP=false\n",
      "   KMP_TASKING=2\n",
      "   KMP_TASKLOOP_MIN_TASKS=0\n",
      "   KMP_TASK_STEALING_CONSTRAINT=1\n",
      "   KMP_TEAMS_THREAD_LIMIT=4\n",
      "   KMP_TOPOLOGY_METHOD=all\n",
      "   KMP_USE_YIELD=1\n",
      "   KMP_VERSION=false\n",
      "   KMP_WARNINGS=false\n",
      "   OMP_AFFINITY_FORMAT='OMP: pid %P tid %i thread %n bound to OS proc set {%A}'\n",
      "   OMP_ALLOCATOR=omp_default_mem_alloc\n",
      "   OMP_CANCELLATION=false\n",
      "   OMP_DEFAULT_DEVICE=0\n",
      "   OMP_DISPLAY_AFFINITY=false\n",
      "   OMP_DISPLAY_ENV=false\n",
      "   OMP_DYNAMIC=false\n",
      "   OMP_MAX_ACTIVE_LEVELS=1\n",
      "   OMP_MAX_TASK_PRIORITY=0\n",
      "   OMP_NESTED: deprecated; max-active-levels-var=1\n",
      "   OMP_NUM_THREADS: value is not defined\n",
      "   OMP_PLACES: value is not defined\n",
      "   OMP_PROC_BIND='intel'\n",
      "   OMP_SCHEDULE='static'\n",
      "   OMP_STACKSIZE=8M\n",
      "   OMP_TARGET_OFFLOAD=DEFAULT\n",
      "   OMP_THREAD_LIMIT=2147483647\n",
      "   OMP_WAIT_POLICY=PASSIVE\n",
      "   KMP_AFFINITY='verbose,warnings,respect,granularity=fine,compact,1,0'\n",
      "\n",
      "2022-01-17 06:28:03.944055: I tensorflow/core/common_runtime/process_util.cc:146] Creating new thread pool with default inter op setting: 2. Tune using inter_op_parallelism_threads for best performance.\n"
     ]
    }
   ],
   "source": [
    "# creating the model\n",
    "model = keras.Sequential([\n",
    "    layers.BatchNormalization(input_shape=input_shape),\n",
    "    \n",
    "    layers.Dense(128, activation='relu'),\n",
    "    layers.BatchNormalization(),\n",
    "    layers.Dropout(rate=0.2),\n",
    "    \n",
    "    layers.Dense(128, activation='relu'),\n",
    "    layers.BatchNormalization(),\n",
    "    layers.Dropout(rate=0.2),\n",
    "    \n",
    "    layers.Dense(128, activation='relu'),\n",
    "    layers.BatchNormalization(),\n",
    "    layers.Dropout(rate=0.2),\n",
    "    \n",
    "    layers.Dense(1, activation='sigmoid'),\n",
    "])"
   ]
  },
  {
   "cell_type": "code",
   "execution_count": 5,
   "id": "c1a3bd29",
   "metadata": {
    "execution": {
     "iopub.execute_input": "2022-01-17T06:28:04.108662Z",
     "iopub.status.busy": "2022-01-17T06:28:04.107972Z",
     "iopub.status.idle": "2022-01-17T06:28:04.119142Z",
     "shell.execute_reply": "2022-01-17T06:28:04.119702Z",
     "shell.execute_reply.started": "2022-01-17T06:21:53.451010Z"
    },
    "papermill": {
     "duration": 0.02605,
     "end_time": "2022-01-17T06:28:04.119885",
     "exception": false,
     "start_time": "2022-01-17T06:28:04.093835",
     "status": "completed"
    },
    "tags": []
   },
   "outputs": [],
   "source": [
    "# compiling the model\n",
    "model.compile(\n",
    "    optimizer='adam',\n",
    "    loss='binary_crossentropy',\n",
    "    metrics=['binary_accuracy'],\n",
    ")"
   ]
  },
  {
   "cell_type": "code",
   "execution_count": 6,
   "id": "031032af",
   "metadata": {
    "execution": {
     "iopub.execute_input": "2022-01-17T06:28:04.143575Z",
     "iopub.status.busy": "2022-01-17T06:28:04.142922Z",
     "iopub.status.idle": "2022-01-17T06:28:04.148505Z",
     "shell.execute_reply": "2022-01-17T06:28:04.147848Z",
     "shell.execute_reply.started": "2022-01-17T06:21:54.915874Z"
    },
    "papermill": {
     "duration": 0.018679,
     "end_time": "2022-01-17T06:28:04.148641",
     "exception": false,
     "start_time": "2022-01-17T06:28:04.129962",
     "status": "completed"
    },
    "tags": []
   },
   "outputs": [],
   "source": [
    "# creating an early stopping callback\n",
    "early_stopping = callbacks.EarlyStopping(\n",
    "    patience=2,\n",
    "    min_delta=0.001,\n",
    "    restore_best_weights=True,\n",
    ")\n",
    "\n",
    "# learning rate schedule, decreasing the learning rate over the course of training\n",
    "lr_schedule = callbacks.ReduceLROnPlateau(\n",
    "    patience=0,\n",
    "    factor=0.2,\n",
    "    min_lr=0.001,\n",
    ")"
   ]
  },
  {
   "cell_type": "code",
   "execution_count": 7,
   "id": "e0e1451a",
   "metadata": {
    "execution": {
     "iopub.execute_input": "2022-01-17T06:28:04.174394Z",
     "iopub.status.busy": "2022-01-17T06:28:04.173459Z",
     "iopub.status.idle": "2022-01-17T06:28:09.206608Z",
     "shell.execute_reply": "2022-01-17T06:28:09.205593Z",
     "shell.execute_reply.started": "2022-01-17T06:21:56.257726Z"
    },
    "papermill": {
     "duration": 5.048303,
     "end_time": "2022-01-17T06:28:09.206761",
     "exception": false,
     "start_time": "2022-01-17T06:28:04.158458",
     "status": "completed"
    },
    "tags": []
   },
   "outputs": [
    {
     "name": "stderr",
     "output_type": "stream",
     "text": [
      "2022-01-17 06:28:04.254585: I tensorflow/compiler/mlir/mlir_graph_optimization_pass.cc:185] None of the MLIR Optimization Passes are enabled (registered 2)\n"
     ]
    },
    {
     "name": "stdout",
     "output_type": "stream",
     "text": [
      "Epoch 1/200\n",
      "8/8 [==============================] - 2s 56ms/step - loss: 0.8720 - binary_accuracy: 0.5409 - val_loss: 0.6566 - val_binary_accuracy: 0.8396\n",
      "Epoch 2/200\n",
      "8/8 [==============================] - 0s 15ms/step - loss: 0.7361 - binary_accuracy: 0.5805 - val_loss: 0.5914 - val_binary_accuracy: 0.9446\n",
      "Epoch 3/200\n",
      "8/8 [==============================] - 0s 15ms/step - loss: 0.6618 - binary_accuracy: 0.6243 - val_loss: 0.5602 - val_binary_accuracy: 0.9479\n",
      "Epoch 4/200\n",
      "8/8 [==============================] - 0s 15ms/step - loss: 0.6254 - binary_accuracy: 0.6759 - val_loss: 0.5287 - val_binary_accuracy: 0.9520\n",
      "Epoch 5/200\n",
      "8/8 [==============================] - 0s 14ms/step - loss: 0.5794 - binary_accuracy: 0.7191 - val_loss: 0.4925 - val_binary_accuracy: 0.9593\n",
      "Epoch 6/200\n",
      "8/8 [==============================] - 0s 14ms/step - loss: 0.5284 - binary_accuracy: 0.7656 - val_loss: 0.4603 - val_binary_accuracy: 0.9601\n",
      "Epoch 7/200\n",
      "8/8 [==============================] - 0s 14ms/step - loss: 0.4966 - binary_accuracy: 0.8020 - val_loss: 0.4232 - val_binary_accuracy: 0.9601\n",
      "Epoch 8/200\n",
      "8/8 [==============================] - 0s 14ms/step - loss: 0.4650 - binary_accuracy: 0.8359 - val_loss: 0.3990 - val_binary_accuracy: 0.9601\n",
      "Epoch 9/200\n",
      "8/8 [==============================] - 0s 14ms/step - loss: 0.4279 - binary_accuracy: 0.8666 - val_loss: 0.3648 - val_binary_accuracy: 0.9601\n",
      "Epoch 10/200\n",
      "8/8 [==============================] - 0s 14ms/step - loss: 0.4045 - binary_accuracy: 0.8669 - val_loss: 0.3399 - val_binary_accuracy: 0.9601\n",
      "Epoch 11/200\n",
      "8/8 [==============================] - 0s 21ms/step - loss: 0.3742 - binary_accuracy: 0.8932 - val_loss: 0.3165 - val_binary_accuracy: 0.9601\n",
      "Epoch 12/200\n",
      "8/8 [==============================] - 0s 14ms/step - loss: 0.3433 - binary_accuracy: 0.9093 - val_loss: 0.2951 - val_binary_accuracy: 0.9601\n",
      "Epoch 13/200\n",
      "8/8 [==============================] - 0s 14ms/step - loss: 0.3189 - binary_accuracy: 0.9180 - val_loss: 0.2737 - val_binary_accuracy: 0.9601\n",
      "Epoch 14/200\n",
      "8/8 [==============================] - 0s 14ms/step - loss: 0.2922 - binary_accuracy: 0.9267 - val_loss: 0.2503 - val_binary_accuracy: 0.9601\n",
      "Epoch 15/200\n",
      "8/8 [==============================] - 0s 15ms/step - loss: 0.2737 - binary_accuracy: 0.9351 - val_loss: 0.2323 - val_binary_accuracy: 0.9601\n",
      "Epoch 16/200\n",
      "8/8 [==============================] - 0s 15ms/step - loss: 0.2654 - binary_accuracy: 0.9313 - val_loss: 0.2199 - val_binary_accuracy: 0.9601\n",
      "Epoch 17/200\n",
      "8/8 [==============================] - 0s 15ms/step - loss: 0.2433 - binary_accuracy: 0.9410 - val_loss: 0.2119 - val_binary_accuracy: 0.9601\n",
      "Epoch 18/200\n",
      "8/8 [==============================] - 0s 14ms/step - loss: 0.2330 - binary_accuracy: 0.9470 - val_loss: 0.1983 - val_binary_accuracy: 0.9601\n",
      "Epoch 19/200\n",
      "8/8 [==============================] - 0s 14ms/step - loss: 0.2149 - binary_accuracy: 0.9484 - val_loss: 0.1961 - val_binary_accuracy: 0.9601\n",
      "Epoch 20/200\n",
      "8/8 [==============================] - 0s 14ms/step - loss: 0.2033 - binary_accuracy: 0.9478 - val_loss: 0.1920 - val_binary_accuracy: 0.9601\n",
      "Epoch 21/200\n",
      "8/8 [==============================] - 0s 15ms/step - loss: 0.1998 - binary_accuracy: 0.9489 - val_loss: 0.1843 - val_binary_accuracy: 0.9601\n",
      "Epoch 22/200\n",
      "8/8 [==============================] - 0s 15ms/step - loss: 0.1887 - binary_accuracy: 0.9473 - val_loss: 0.1728 - val_binary_accuracy: 0.9601\n",
      "Epoch 23/200\n",
      "8/8 [==============================] - 0s 14ms/step - loss: 0.1781 - binary_accuracy: 0.9511 - val_loss: 0.1710 - val_binary_accuracy: 0.9601\n",
      "Epoch 24/200\n",
      "8/8 [==============================] - 0s 14ms/step - loss: 0.1802 - binary_accuracy: 0.9530 - val_loss: 0.1708 - val_binary_accuracy: 0.9601\n",
      "Epoch 25/200\n",
      "8/8 [==============================] - 0s 14ms/step - loss: 0.1697 - binary_accuracy: 0.9527 - val_loss: 0.1702 - val_binary_accuracy: 0.9601\n"
     ]
    }
   ],
   "source": [
    "# training the model\n",
    "history = model.fit(\n",
    "    X_train, y_train,\n",
    "    validation_data=(X_valid, y_valid),\n",
    "    batch_size=512,\n",
    "    epochs=200,\n",
    "    callbacks=[early_stopping, lr_schedule]\n",
    ")"
   ]
  },
  {
   "cell_type": "code",
   "execution_count": 8,
   "id": "035ea974",
   "metadata": {
    "execution": {
     "iopub.execute_input": "2022-01-17T06:28:09.281235Z",
     "iopub.status.busy": "2022-01-17T06:28:09.280594Z",
     "iopub.status.idle": "2022-01-17T06:28:09.548335Z",
     "shell.execute_reply": "2022-01-17T06:28:09.547787Z",
     "shell.execute_reply.started": "2022-01-17T06:22:04.531464Z"
    },
    "papermill": {
     "duration": 0.307967,
     "end_time": "2022-01-17T06:28:09.548472",
     "exception": false,
     "start_time": "2022-01-17T06:28:09.240505",
     "status": "completed"
    },
    "tags": []
   },
   "outputs": [
    {
     "data": {
      "text/plain": [
       "<AxesSubplot:title={'center':'Accuracy'}>"
      ]
     },
     "execution_count": 8,
     "metadata": {},
     "output_type": "execute_result"
    },
    {
     "data": {
      "image/png": "[encoded data removed]",
      "text/plain": [
       "<Figure size 432x288 with 1 Axes>"
      ]
     },
     "metadata": {
      "needs_background": "light"
     },
     "output_type": "display_data"
    }
   ],
   "source": [
    "# evaluating accuracy\n",
    "history_df = pd.DataFrame(history.history)\n",
    "history_df.loc[:, ['binary_accuracy', 'val_binary_accuracy']].plot(title=\"Accuracy\")"
   ]
  },
  {
   "cell_type": "markdown",
   "id": "d57ab632",
   "metadata": {
    "papermill": {
     "duration": 0.034073,
     "end_time": "2022-01-17T06:28:09.616898",
     "exception": false,
     "start_time": "2022-01-17T06:28:09.582825",
     "status": "completed"
    },
    "tags": []
   },
   "source": [
    "It seems that the model works fairly well, with an accuracy of around 95%."
   ]
  }
 ],
 "metadata": {
  "kernelspec": {
   "display_name": "Python 3",
   "language": "python",
   "name": "python3"
  },
  "language_info": {
   "codemirror_mode": {
    "name": "ipython",
    "version": 3
   },
   "file_extension": ".py",
   "mimetype": "text/x-python",
   "name": "python",
   "nbconvert_exporter": "python",
   "pygments_lexer": "ipython3",
   "version": "3.7.12"
  },
  "papermill": {
   "default_parameters": {},
   "duration": 25.599381,
   "end_time": "2022-01-17T06:28:12.818584",
   "environment_variables": {},
   "exception": null,
   "input_path": "__notebook__.ipynb",
   "output_path": "__notebook__.ipynb",
   "parameters": {},
   "start_time": "2022-01-17T06:27:47.219203",
   "version": "2.3.3"
  }
 },
 "nbformat": 4,
 "nbformat_minor": 5
}
